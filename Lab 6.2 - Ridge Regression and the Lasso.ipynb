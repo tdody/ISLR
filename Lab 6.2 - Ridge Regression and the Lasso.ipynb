{
 "cells": [
  {
   "cell_type": "markdown",
   "metadata": {},
   "source": [
    "# Ridge Regression and the Lasso"
   ]
  },
  {
   "cell_type": "code",
   "execution_count": 1,
   "metadata": {},
   "outputs": [
    {
     "name": "stderr",
     "output_type": "stream",
     "text": [
      "/anaconda3/lib/python3.6/importlib/_bootstrap.py:219: RuntimeWarning: numpy.dtype size changed, may indicate binary incompatibility. Expected 96, got 88\n",
      "  return f(*args, **kwds)\n",
      "/anaconda3/lib/python3.6/importlib/_bootstrap.py:219: RuntimeWarning: numpy.dtype size changed, may indicate binary incompatibility. Expected 96, got 88\n",
      "  return f(*args, **kwds)\n",
      "/anaconda3/lib/python3.6/importlib/_bootstrap.py:219: RuntimeWarning: numpy.dtype size changed, may indicate binary incompatibility. Expected 96, got 88\n",
      "  return f(*args, **kwds)\n",
      "/anaconda3/lib/python3.6/importlib/_bootstrap.py:219: RuntimeWarning: numpy.dtype size changed, may indicate binary incompatibility. Expected 96, got 88\n",
      "  return f(*args, **kwds)\n",
      "/anaconda3/lib/python3.6/site-packages/sklearn/cross_validation.py:41: DeprecationWarning: This module was deprecated in version 0.18 in favor of the model_selection module into which all the refactored classes and functions are moved. Also note that the interface of the new CV iterators are different from that of this module. This module will be removed in 0.20.\n",
      "  \"This module will be removed in 0.20.\", DeprecationWarning)\n",
      "/anaconda3/lib/python3.6/importlib/_bootstrap.py:219: RuntimeWarning: numpy.dtype size changed, may indicate binary incompatibility. Expected 96, got 88\n",
      "  return f(*args, **kwds)\n"
     ]
    }
   ],
   "source": [
    "# import modules\n",
    "import pandas as pd\n",
    "import numpy as np\n",
    "\n",
    "from sklearn.linear_model import Ridge, RidgeCV, Lasso, LassoCV\n",
    "from sklearn.metrics import mean_squared_error\n",
    "from sklearn.preprocessing import scale\n",
    "from sklearn import cross_validation\n",
    "\n",
    "import matplotlib.pyplot as plt\n",
    "import seaborn as sns\n",
    "sns.set_style('whitegrid')\n",
    "\n",
    "import itertools\n",
    "%matplotlib inline"
   ]
  },
  {
   "cell_type": "code",
   "execution_count": 2,
   "metadata": {},
   "outputs": [
    {
     "name": "stdout",
     "output_type": "stream",
     "text": [
      "<class 'pandas.core.frame.DataFrame'>\n",
      "Int64Index: 263 entries, 1 to 321\n",
      "Data columns (total 23 columns):\n",
      "AtBat          263 non-null int64\n",
      "Hits           263 non-null int64\n",
      "HmRun          263 non-null int64\n",
      "Runs           263 non-null int64\n",
      "RBI            263 non-null int64\n",
      "Walks          263 non-null int64\n",
      "Years          263 non-null int64\n",
      "CAtBat         263 non-null int64\n",
      "CHits          263 non-null int64\n",
      "CHmRun         263 non-null int64\n",
      "CRuns          263 non-null int64\n",
      "CRBI           263 non-null int64\n",
      "CWalks         263 non-null int64\n",
      "PutOuts        263 non-null int64\n",
      "Assists        263 non-null int64\n",
      "Errors         263 non-null int64\n",
      "Salary         263 non-null float64\n",
      "League_A       263 non-null uint8\n",
      "League_N       263 non-null uint8\n",
      "Division_E     263 non-null uint8\n",
      "Division_W     263 non-null uint8\n",
      "NewLeague_A    263 non-null uint8\n",
      "NewLeague_N    263 non-null uint8\n",
      "dtypes: float64(1), int64(16), uint8(6)\n",
      "memory usage: 38.5 KB\n"
     ]
    }
   ],
   "source": [
    "# load the data\n",
    "df = pd.read_csv('./datasets/Hitters.csv').dropna().drop('Unnamed: 0', axis=1)\n",
    "df = pd.get_dummies(df,columns=['League', 'Division', 'NewLeague'])\n",
    "df.info()"
   ]
  },
  {
   "cell_type": "code",
   "execution_count": 3,
   "metadata": {},
   "outputs": [
    {
     "name": "stdout",
     "output_type": "stream",
     "text": [
      "<class 'pandas.core.frame.DataFrame'>\n",
      "Int64Index: 263 entries, 1 to 321\n",
      "Data columns (total 22 columns):\n",
      "Assists        263 non-null int64\n",
      "AtBat          263 non-null int64\n",
      "CAtBat         263 non-null int64\n",
      "CHits          263 non-null int64\n",
      "CHmRun         263 non-null int64\n",
      "CRBI           263 non-null int64\n",
      "CRuns          263 non-null int64\n",
      "CWalks         263 non-null int64\n",
      "Division_E     263 non-null uint8\n",
      "Division_W     263 non-null uint8\n",
      "Errors         263 non-null int64\n",
      "Hits           263 non-null int64\n",
      "HmRun          263 non-null int64\n",
      "League_A       263 non-null uint8\n",
      "League_N       263 non-null uint8\n",
      "NewLeague_A    263 non-null uint8\n",
      "NewLeague_N    263 non-null uint8\n",
      "PutOuts        263 non-null int64\n",
      "RBI            263 non-null int64\n",
      "Runs           263 non-null int64\n",
      "Walks          263 non-null int64\n",
      "Years          263 non-null int64\n",
      "dtypes: int64(16), uint8(6)\n",
      "memory usage: 36.5 KB\n"
     ]
    }
   ],
   "source": [
    "# prepare variables\n",
    "y = df['Salary']\n",
    "X = df[df.columns.difference(['Salary'])]\n",
    "X.info()"
   ]
  },
  {
   "cell_type": "markdown",
   "metadata": {},
   "source": [
    "## 1. Ridge Regression"
   ]
  },
  {
   "cell_type": "markdown",
   "metadata": {},
   "source": [
    "The ${\\tt Ridge()}$ function has an alpha argument ($\\lambda$, but with a different name!) that is used to tune the model. We'll generate an array of alpha values ranging from very big to very small, essentially covering the full range of scenarios from the null model containing only the intercept, to the least squares fit:"
   ]
  },
  {
   "cell_type": "code",
   "execution_count": 4,
   "metadata": {},
   "outputs": [],
   "source": [
    "# candidate for hyper-parameters\n",
    "alpha = 10**np.linspace(10,-2,100)"
   ]
  },
  {
   "cell_type": "code",
   "execution_count": 5,
   "metadata": {},
   "outputs": [
    {
     "data": {
      "text/plain": [
       "(100, 22)"
      ]
     },
     "execution_count": 5,
     "metadata": {},
     "output_type": "execute_result"
    }
   ],
   "source": [
    "# create model\n",
    "ridge = Ridge(normalize=True)\n",
    "coefs = []\n",
    "\n",
    "for a in alpha:\n",
    "    ridge.set_params(alpha = a)\n",
    "    ridge.fit(X,y)\n",
    "    coefs.append(ridge.coef_)\n",
    "    \n",
    "np.shape(coefs)"
   ]
  },
  {
   "cell_type": "code",
   "execution_count": 6,
   "metadata": {},
   "outputs": [
    {
     "data": {
      "image/png": "[encoded data removed]",
      "text/plain": [
       "<matplotlib.figure.Figure at 0x1a123ee438>"
      ]
     },
     "metadata": {},
     "output_type": "display_data"
    }
   ],
   "source": [
    "# plot the variation of the coefficients as function of alpha\n",
    "fig, ax = plt.subplots(figsize=(15,12))\n",
    "plt.plot(alpha,coefs)\n",
    "ax.set_xscale('log')\n",
    "plt.xlabel('alpha')\n",
    "plt.ylabel('weights');"
   ]
  },
  {
   "cell_type": "code",
   "execution_count": 7,
   "metadata": {},
   "outputs": [],
   "source": [
    "# use cross-validation\n",
    "X_train, X_test, y_train, y_test = cross_validation.train_test_split(X, y, test_size=0.5,random_state=1)"
   ]
  },
  {
   "cell_type": "code",
   "execution_count": 8,
   "metadata": {},
   "outputs": [
    {
     "name": "stdout",
     "output_type": "stream",
     "text": [
      "Assists        -0.005555\n",
      "AtBat           0.099126\n",
      "CAtBat          0.008268\n",
      "CHits           0.034235\n",
      "CHmRun          0.269323\n",
      "CRBI            0.070244\n",
      "CRuns           0.070559\n",
      "CWalks          0.082971\n",
      "Division_E     25.708216\n",
      "Division_W    -25.708216\n",
      "Errors          0.223717\n",
      "Hits            0.446844\n",
      "HmRun           1.407437\n",
      "League_A       -3.319243\n",
      "League_N        3.319243\n",
      "NewLeague_A    -3.209238\n",
      "NewLeague_N     3.209238\n",
      "PutOuts         0.103682\n",
      "RBI             0.837386\n",
      "Runs            0.661316\n",
      "Walks           1.012848\n",
      "Years           2.811318\n",
      "dtype: float64\n",
      "105073.05811443602\n"
     ]
    }
   ],
   "source": [
    "# fit new model on train data\n",
    "ridge_v2 = Ridge(alpha=4,normalize=True)\n",
    "ridge_v2.fit(X_train, y_train)\n",
    "pred_v2 = ridge_v2.predict(X_test)\n",
    "print(pd.Series(ridge_v2.coef_, index=X.columns))\n",
    "print(mean_squared_error(y_test, pred_v2))"
   ]
  },
  {
   "cell_type": "code",
   "execution_count": 9,
   "metadata": {},
   "outputs": [
    {
     "name": "stdout",
     "output_type": "stream",
     "text": [
      "Assists       -2.615885e-12\n",
      "AtBat          1.317464e-10\n",
      "CAtBat         1.060533e-11\n",
      "CHits          3.993605e-11\n",
      "CHmRun         2.959428e-10\n",
      "CRBI           7.795451e-11\n",
      "CRuns          8.245247e-11\n",
      "CWalks         9.894387e-11\n",
      "Division_E     1.549951e-08\n",
      "Division_W    -1.549951e-08\n",
      "Errors         2.084514e-10\n",
      "Hits           4.647486e-10\n",
      "HmRun          2.079865e-09\n",
      "League_A       2.501281e-09\n",
      "League_N      -2.501281e-09\n",
      "NewLeague_A    2.023196e-09\n",
      "NewLeague_N   -2.023196e-09\n",
      "PutOuts        7.268991e-11\n",
      "RBI            9.390640e-10\n",
      "Runs           7.726175e-10\n",
      "Walks          9.769219e-10\n",
      "Years          3.961442e-09\n",
      "dtype: float64\n",
      "172862.2358023272\n"
     ]
    }
   ],
   "source": [
    "# fit new model on train data\n",
    "ridge_v3 = Ridge(alpha=10**10,normalize=True)\n",
    "ridge_v3.fit(X_train, y_train)\n",
    "pred_v3 = ridge_v3.predict(X_test)\n",
    "print(pd.Series(ridge_v3.coef_, index=X.columns))\n",
    "print(mean_squared_error(y_test, pred_v3))"
   ]
  },
  {
   "cell_type": "markdown",
   "metadata": {},
   "source": [
    "As expected, with a large value of alpha, most of the weights are set to values close to 0."
   ]
  },
  {
   "cell_type": "code",
   "execution_count": 10,
   "metadata": {},
   "outputs": [
    {
     "data": {
      "text/plain": [
       "0.6579332246575682"
      ]
     },
     "execution_count": 10,
     "metadata": {},
     "output_type": "execute_result"
    }
   ],
   "source": [
    "# We now use cross validation to tune alpha\n",
    "ridgecv = RidgeCV(alphas=alpha, scoring='neg_mean_squared_error', normalize=True)\n",
    "ridgecv.fit(X_train, y_train)\n",
    "ridgecv.alpha_"
   ]
  },
  {
   "cell_type": "code",
   "execution_count": 11,
   "metadata": {},
   "outputs": [
    {
     "name": "stdout",
     "output_type": "stream",
     "text": [
      "Assists        -0.023421\n",
      "AtBat           0.011222\n",
      "CAtBat          0.007256\n",
      "CHits           0.050949\n",
      "CHmRun          0.492499\n",
      "CRBI            0.123548\n",
      "CRuns           0.104410\n",
      "CWalks          0.100628\n",
      "Division_E     55.294785\n",
      "Division_W    -55.294785\n",
      "Errors         -0.339990\n",
      "Hits            0.827846\n",
      "HmRun          -0.058279\n",
      "League_A      -11.602995\n",
      "League_N       11.602995\n",
      "NewLeague_A    -5.078317\n",
      "NewLeague_N     5.078317\n",
      "PutOuts         0.263806\n",
      "RBI             1.249315\n",
      "Runs            0.742816\n",
      "Walks           2.026639\n",
      "Years           1.600619\n",
      "dtype: float64\n",
      "99266.55312693525\n"
     ]
    }
   ],
   "source": [
    "ridge_v4 = Ridge(alpha=ridgecv.alpha_,normalize=True)\n",
    "ridge_v4.fit(X_train, y_train)\n",
    "pred_v4 = ridge_v4.predict(X_test)\n",
    "print(pd.Series(ridge_v4.coef_, index=X.columns))\n",
    "print(mean_squared_error(y_test, pred_v4))"
   ]
  },
  {
   "cell_type": "markdown",
   "metadata": {},
   "source": [
    "## 2. Lasso"
   ]
  },
  {
   "cell_type": "code",
   "execution_count": 12,
   "metadata": {},
   "outputs": [],
   "source": [
    "# model, fit, and plot\n",
    "lasso = Lasso(max_iter=10000, normalize=True)\n",
    "coefs = []\n",
    "\n",
    "for a in alpha:\n",
    "    lasso.set_params(alpha=a)\n",
    "    lasso.fit(X_train,y_train)\n",
    "    coefs.append(lasso.coef_)"
   ]
  },
  {
   "cell_type": "code",
   "execution_count": 13,
   "metadata": {},
   "outputs": [
    {
     "data": {
      "image/png": "[encoded data removed]",
      "text/plain": [
       "<matplotlib.figure.Figure at 0x1a1fc9b278>"
      ]
     },
     "metadata": {},
     "output_type": "display_data"
    }
   ],
   "source": [
    "# plot the variation of the coefficients as function of alpha\n",
    "fig, ax = plt.subplots(figsize=(15,12))\n",
    "plt.plot(alpha,coefs)\n",
    "ax.set_xscale('log')\n",
    "plt.xlabel('alpha')\n",
    "plt.ylabel('weights');"
   ]
  },
  {
   "cell_type": "code",
   "execution_count": 14,
   "metadata": {},
   "outputs": [
    {
     "data": {
      "text/plain": [
       "104960.8317007929"
      ]
     },
     "execution_count": 14,
     "metadata": {},
     "output_type": "execute_result"
    }
   ],
   "source": [
    "lassocv = LassoCV(alphas=None, cv=10,max_iter=100000, normalize=True)\n",
    "lassocv.fit(X_train, y_train)\n",
    "\n",
    "lasso.set_params(alpha=lassocv.alpha_)\n",
    "lasso.fit(X_train, y_train)\n",
    "mean_squared_error(y_test, lasso.predict(X_test))"
   ]
  },
  {
   "cell_type": "code",
   "execution_count": 15,
   "metadata": {},
   "outputs": [
    {
     "data": {
      "text/plain": [
       "Assists       -0.000000e+00\n",
       "AtBat          0.000000e+00\n",
       "CAtBat         0.000000e+00\n",
       "CHits          0.000000e+00\n",
       "CHmRun         2.193045e-01\n",
       "CRBI           5.139894e-01\n",
       "CRuns          0.000000e+00\n",
       "CWalks         0.000000e+00\n",
       "Division_E     8.906424e+01\n",
       "Division_W    -9.933155e-15\n",
       "Errors        -0.000000e+00\n",
       "Hits           1.082382e+00\n",
       "HmRun          0.000000e+00\n",
       "League_A      -0.000000e+00\n",
       "League_N       0.000000e+00\n",
       "NewLeague_A   -0.000000e+00\n",
       "NewLeague_N    0.000000e+00\n",
       "PutOuts        3.684035e-01\n",
       "RBI            0.000000e+00\n",
       "Runs           0.000000e+00\n",
       "Walks          2.906526e+00\n",
       "Years          0.000000e+00\n",
       "dtype: float64"
      ]
     },
     "execution_count": 15,
     "metadata": {},
     "output_type": "execute_result"
    }
   ],
   "source": [
    "# Some of the coefficients are now reduced to exactly zero.\n",
    "pd.Series(lasso.coef_, index=X.columns)"
   ]
  }
 ],
 "metadata": {
  "kernelspec": {
   "display_name": "Python 3",
   "language": "python",
   "name": "python3"
  },
  "language_info": {
   "codemirror_mode": {
    "name": "ipython",
    "version": 3
   },
   "file_extension": ".py",
   "mimetype": "text/x-python",
   "name": "python",
   "nbconvert_exporter": "python",
   "pygments_lexer": "ipython3",
   "version": "3.6.4"
  }
 },
 "nbformat": 4,
 "nbformat_minor": 2
}
