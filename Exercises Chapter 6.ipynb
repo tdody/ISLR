{
 "cells": [
  {
   "cell_type": "markdown",
   "metadata": {},
   "source": [
    "# Exercises Chapter 6"
   ]
  },
  {
   "cell_type": "markdown",
   "metadata": {},
   "source": [
    "# Question 8 "
   ]
  },
  {
   "cell_type": "code",
   "execution_count": 1,
   "metadata": {},
   "outputs": [
    {
     "name": "stderr",
     "output_type": "stream",
     "text": [
      "/anaconda3/lib/python3.6/importlib/_bootstrap.py:219: RuntimeWarning: numpy.dtype size changed, may indicate binary incompatibility. Expected 96, got 88\n",
      "  return f(*args, **kwds)\n",
      "/anaconda3/lib/python3.6/importlib/_bootstrap.py:219: RuntimeWarning: numpy.dtype size changed, may indicate binary incompatibility. Expected 96, got 88\n",
      "  return f(*args, **kwds)\n",
      "/anaconda3/lib/python3.6/importlib/_bootstrap.py:219: RuntimeWarning: numpy.dtype size changed, may indicate binary incompatibility. Expected 96, got 88\n",
      "  return f(*args, **kwds)\n",
      "/anaconda3/lib/python3.6/importlib/_bootstrap.py:219: RuntimeWarning: numpy.dtype size changed, may indicate binary incompatibility. Expected 96, got 88\n",
      "  return f(*args, **kwds)\n",
      "/anaconda3/lib/python3.6/site-packages/statsmodels/compat/pandas.py:56: FutureWarning: The pandas.core.datetools module is deprecated and will be removed in a future version. Please use the pandas.tseries module instead.\n",
      "  from pandas.core import datetools\n"
     ]
    }
   ],
   "source": [
    "# load modules\n",
    "import numpy as np\n",
    "import pandas as pd\n",
    "\n",
    "import matplotlib.pyplot as plt\n",
    "import seaborn as sns\n",
    "sns.set_style('whitegrid')\n",
    "%matplotlib inline\n",
    "\n",
    "from tqdm import tqdm \n",
    "from operator import itemgetter\n",
    "import itertools\n",
    "from sklearn.preprocessing import PolynomialFeatures\n",
    "from sklearn.linear_model import LassoCV\n",
    "\n",
    "import statsmodels.api as sm"
   ]
  },
  {
   "cell_type": "code",
   "execution_count": 2,
   "metadata": {},
   "outputs": [],
   "source": [
    "# a)\n",
    "np.random.seed(0)\n",
    "X = np.random.randn(100,1)\n",
    "e = np.random.randn(100,1)"
   ]
  },
  {
   "cell_type": "code",
   "execution_count": 3,
   "metadata": {},
   "outputs": [],
   "source": [
    "# b)\n",
    "betas = [2.0, -1.7, 3.2, 0.8]\n",
    "Y = betas[0] + betas[1] * X + betas[2] * X ** 2 +betas[3] * X ** 3 + e"
   ]
  },
  {
   "cell_type": "code",
   "execution_count": 4,
   "metadata": {},
   "outputs": [
    {
     "data": {
      "image/png": "[encoded data removed]",
      "text/plain": [
       "<matplotlib.figure.Figure at 0x10aac6be0>"
      ]
     },
     "metadata": {},
     "output_type": "display_data"
    }
   ],
   "source": [
    "plt.scatter(X,Y)\n",
    "plt.xlabel(\"X\")\n",
    "plt.ylabel(\"Y\");"
   ]
  },
  {
   "cell_type": "code",
   "execution_count": 5,
   "metadata": {},
   "outputs": [
    {
     "data": {
      "text/html": [
       "<div>\n",
       "<style scoped>\n",
       "    .dataframe tbody tr th:only-of-type {\n",
       "        vertical-align: middle;\n",
       "    }\n",
       "\n",
       "    .dataframe tbody tr th {\n",
       "        vertical-align: top;\n",
       "    }\n",
       "\n",
       "    .dataframe thead th {\n",
       "        text-align: right;\n",
       "    }\n",
       "</style>\n",
       "<table border=\"1\" class=\"dataframe\">\n",
       "  <thead>\n",
       "    <tr style=\"text-align: right;\">\n",
       "      <th></th>\n",
       "      <th>Y</th>\n",
       "      <th>X1</th>\n",
       "      <th>X2</th>\n",
       "      <th>X3</th>\n",
       "      <th>X4</th>\n",
       "      <th>X5</th>\n",
       "      <th>X6</th>\n",
       "      <th>X7</th>\n",
       "      <th>X8</th>\n",
       "      <th>X9</th>\n",
       "      <th>X10</th>\n",
       "    </tr>\n",
       "  </thead>\n",
       "  <tbody>\n",
       "    <tr>\n",
       "      <th>0</th>\n",
       "      <td>15.233896</td>\n",
       "      <td>1.764052</td>\n",
       "      <td>3.111881</td>\n",
       "      <td>5.489520</td>\n",
       "      <td>9.683801</td>\n",
       "      <td>17.082733</td>\n",
       "      <td>30.134834</td>\n",
       "      <td>53.159425</td>\n",
       "      <td>93.776009</td>\n",
       "      <td>165.425788</td>\n",
       "      <td>291.819750</td>\n",
       "    </tr>\n",
       "    <tr>\n",
       "      <th>1</th>\n",
       "      <td>0.535637</td>\n",
       "      <td>0.400157</td>\n",
       "      <td>0.160126</td>\n",
       "      <td>0.064075</td>\n",
       "      <td>0.025640</td>\n",
       "      <td>0.010260</td>\n",
       "      <td>0.004106</td>\n",
       "      <td>0.001643</td>\n",
       "      <td>0.000657</td>\n",
       "      <td>0.000263</td>\n",
       "      <td>0.000105</td>\n",
       "    </tr>\n",
       "    <tr>\n",
       "      <th>2</th>\n",
       "      <td>2.881079</td>\n",
       "      <td>0.978738</td>\n",
       "      <td>0.957928</td>\n",
       "      <td>0.937561</td>\n",
       "      <td>0.917626</td>\n",
       "      <td>0.898116</td>\n",
       "      <td>0.879020</td>\n",
       "      <td>0.860330</td>\n",
       "      <td>0.842038</td>\n",
       "      <td>0.824134</td>\n",
       "      <td>0.806612</td>\n",
       "    </tr>\n",
       "    <tr>\n",
       "      <th>3</th>\n",
       "      <td>24.231305</td>\n",
       "      <td>2.240893</td>\n",
       "      <td>5.021602</td>\n",
       "      <td>11.252875</td>\n",
       "      <td>25.216490</td>\n",
       "      <td>56.507461</td>\n",
       "      <td>126.627185</td>\n",
       "      <td>283.757997</td>\n",
       "      <td>635.871366</td>\n",
       "      <td>1424.919820</td>\n",
       "      <td>3193.093133</td>\n",
       "    </tr>\n",
       "    <tr>\n",
       "      <th>4</th>\n",
       "      <td>14.023796</td>\n",
       "      <td>1.867558</td>\n",
       "      <td>3.487773</td>\n",
       "      <td>6.513618</td>\n",
       "      <td>12.164559</td>\n",
       "      <td>22.718020</td>\n",
       "      <td>42.427220</td>\n",
       "      <td>79.235294</td>\n",
       "      <td>147.976506</td>\n",
       "      <td>276.354706</td>\n",
       "      <td>516.108440</td>\n",
       "    </tr>\n",
       "  </tbody>\n",
       "</table>\n",
       "</div>"
      ],
      "text/plain": [
       "           Y        X1        X2         X3         X4         X5          X6  \\\n",
       "0  15.233896  1.764052  3.111881   5.489520   9.683801  17.082733   30.134834   \n",
       "1   0.535637  0.400157  0.160126   0.064075   0.025640   0.010260    0.004106   \n",
       "2   2.881079  0.978738  0.957928   0.937561   0.917626   0.898116    0.879020   \n",
       "3  24.231305  2.240893  5.021602  11.252875  25.216490  56.507461  126.627185   \n",
       "4  14.023796  1.867558  3.487773   6.513618  12.164559  22.718020   42.427220   \n",
       "\n",
       "           X7          X8           X9          X10  \n",
       "0   53.159425   93.776009   165.425788   291.819750  \n",
       "1    0.001643    0.000657     0.000263     0.000105  \n",
       "2    0.860330    0.842038     0.824134     0.806612  \n",
       "3  283.757997  635.871366  1424.919820  3193.093133  \n",
       "4   79.235294  147.976506   276.354706   516.108440  "
      ]
     },
     "execution_count": 5,
     "metadata": {},
     "output_type": "execute_result"
    }
   ],
   "source": [
    "# c)\n",
    "# generete polynomial features\n",
    "poly = PolynomialFeatures(degree=10,include_bias=False)\n",
    "X_poly = poly.fit_transform(X)\n",
    "\n",
    "# create dataframe\n",
    "col_names = ['Y'] + ['X' + str(i) for i in range(1,11)]\n",
    "df = pd.DataFrame(np.concatenate((Y,X_poly),axis=1),columns=col_names)\n",
    "df.head()"
   ]
  },
  {
   "cell_type": "code",
   "execution_count": 6,
   "metadata": {},
   "outputs": [],
   "source": [
    "# best subset selection\n",
    "\n",
    "def BestSubset(dataframe, predictors, response, max_feature=6):\n",
    "    \"\"\"\n",
    "    Use linear regression on a subset of the dataframe. Find the best model (lowest RSS) amongst\n",
    "    models of same complexity (number of features).\n",
    "    \n",
    "    INPUTS\n",
    "    dataframe:   pandas dataframe containing the response and predictors\n",
    "    predictors: list of column names\n",
    "    response: column name\n",
    "    max_features: maximum number of feature (used to avoid large computation)\n",
    "    \n",
    "    OUTPUTS\n",
    "    dataframe of best models\n",
    "    \"\"\"\n",
    "    \n",
    "    def fitSubset(selected_features):\n",
    "        \"\"\"\n",
    "        Fit linea model\n",
    "        \"\"\"\n",
    "        X = X = sm.add_constant(dataframe[selected_features])\n",
    "        y = dataframe[response]\n",
    "        \n",
    "        model = sm.OLS(y,X)\n",
    "        reg = model.fit()\n",
    "        rss = reg.ssr\n",
    "        return (reg,rss)\n",
    "\n",
    "    def find_best_model_kth(k):\n",
    "        \"\"\"\n",
    "        Return the best model made of k features\n",
    "        \"\"\"\n",
    "        results = []\n",
    "        # create featur combinations\n",
    "        for combo in itertools.combinations(predictors,k):\n",
    "            results.append(fitSubset(list(combo)))\n",
    "            \n",
    "        # return best model\n",
    "        return sorted(results,key=itemgetter(1)).pop(0)[0]\n",
    "    \n",
    "    models=[]\n",
    "    for k in tqdm(range(1,max_feature+1)):\n",
    "        models.append(find_best_model_kth(k))\n",
    "    \n",
    "    return models"
   ]
  },
  {
   "cell_type": "code",
   "execution_count": 7,
   "metadata": {},
   "outputs": [
    {
     "name": "stderr",
     "output_type": "stream",
     "text": [
      "100%|██████████| 10/10 [00:02<00:00,  3.59it/s]\n"
     ]
    }
   ],
   "source": [
    "# best subset selection\n",
    "models_best = BestSubset(df, df.columns.difference(['Y']),'Y',max_feature=10)"
   ]
  },
  {
   "cell_type": "code",
   "execution_count": 8,
   "metadata": {},
   "outputs": [
    {
     "data": {
      "image/png": "[encoded data removed]",
      "text/plain": [
       "<matplotlib.figure.Figure at 0x1c19989978>"
      ]
     },
     "metadata": {},
     "output_type": "display_data"
    }
   ],
   "source": [
    "# plots\n",
    "aics = [models_best[k].aic for k in range(len(models_best))]\n",
    "bics = [models_best[k].bic for k in range(len(models_best))]\n",
    "r_adj = [models_best[k].rsquared_adj for k in range(len(models_best))]\n",
    "\n",
    "# find best value for estimators\n",
    "min_aic_index, min_aic = min(enumerate(aics), key=itemgetter(1))\n",
    "min_bic_index, min_bic = min(enumerate(bics), key=itemgetter(1))\n",
    "max_radj_index, max_radj = max(enumerate(r_adj), key=itemgetter(1))\n",
    "\n",
    "num_preds = np.linspace(1,len(models_best),len(models_best))\n",
    "\n",
    "# Create a plot\n",
    "fig,(ax1, ax2) = plt.subplots(1,2,figsize=(16,5))\n",
    "\n",
    "# MSE estimators\n",
    "ax1.plot(num_preds, aics, 'r', marker='o', label='AIC');\n",
    "ax1.plot(num_preds, bics, 'b', marker='o', label='BIC')\n",
    "\n",
    "# add the minimums to the axis\n",
    "ax1.plot(min_aic_index+1, min_aic, 'go', markersize=10, markeredgewidth=1)\n",
    "ax1.plot(min_bic_index+1, min_bic, 'go', markersize=10, markeredgewidth=1)\n",
    "\n",
    "# Labels and Legend\n",
    "ax1.set_xlabel('Number of Predictors');\n",
    "ax1.set_ylabel('Test MSE');\n",
    "ax1.legend(loc='best');\n",
    "\n",
    "# Add Adj R**2\n",
    "ax2.plot(num_preds, r_adj,'k', marker='o')\n",
    "ax2.plot(max_radj_index+1, max_radj, 'go', markersize=10, markeredgewidth=1)\n",
    "ax2.set_xlabel('Number of Predictors');\n",
    "ax2.set_ylabel('Adjusted R**2');\n",
    "\n",
    "fig.suptitle('Best Subset Selection', fontsize=16);"
   ]
  },
  {
   "cell_type": "code",
   "execution_count": 9,
   "metadata": {},
   "outputs": [],
   "source": [
    "# d)\n",
    "# forward subset selection\n",
    "\n",
    "def Forward(dataframe, predictors, response, max_feature=6):\n",
    "    \"\"\"\n",
    "    Use linear regression on a subset of the dataframe. Find the best model (lowest RSS) amongst\n",
    "    models of same complexity (number of features) using the forward subset selection.\n",
    "    \n",
    "    INPUTS\n",
    "    dataframe:   pandas dataframe containing the response and predictors\n",
    "    predictors: list of column names\n",
    "    response: column name\n",
    "    max_features: maximum number of feature (used to avoid large computation)\n",
    "    \n",
    "    OUTPUTS\n",
    "    dataframe of best models\n",
    "    \"\"\"\n",
    "    \n",
    "    def fitSubset(selected_features):\n",
    "        \"\"\"\n",
    "        Fit linea model\n",
    "        \"\"\"\n",
    "        X = X = sm.add_constant(dataframe[selected_features])\n",
    "        y = dataframe[response]\n",
    "        \n",
    "        model = sm.OLS(y,X)\n",
    "        reg = model.fit()\n",
    "        rss = reg.ssr\n",
    "        return (reg,rss)\n",
    "\n",
    "    def find_best_model_kth(best_features, remaining_feat):\n",
    "        \"\"\"\n",
    "        Return the RSS of the possible new models and return the best model\n",
    "        \"\"\"\n",
    "        results = []\n",
    "        # create featur combinations\n",
    "        for feat in remaining_feat:\n",
    "            results.append(fitSubset(best_features + [feat]))\n",
    "            \n",
    "        # return best model\n",
    "        best_model = sorted(results, key=itemgetter(1)).pop(0)[0]\n",
    "        best_features = list(best_model.params.index)[1:]\n",
    "        \n",
    "        return best_features, best_model\n",
    "    \n",
    "    # Create list to hold models, model features and the remaining features to test\n",
    "    models = []\n",
    "    best_features = []\n",
    "    remaining_features = predictors\n",
    "    \n",
    "    while len(remaining_features)>0 and len(best_features)<max_feature:\n",
    "        new_features,new_model  = find_best_model_kth(best_features, remaining_features)\n",
    "        best_features = new_features\n",
    "        remaining_features = [feat for feat in predictors if feat not in best_features]\n",
    "        models.append((new_features,new_model))\n",
    "    \n",
    "    return models"
   ]
  },
  {
   "cell_type": "code",
   "execution_count": 10,
   "metadata": {},
   "outputs": [],
   "source": [
    "# best subset selection\n",
    "models_forward = Forward(df, df.columns.difference(['Y']),'Y',max_feature=10)"
   ]
  },
  {
   "cell_type": "code",
   "execution_count": 11,
   "metadata": {},
   "outputs": [
    {
     "data": {
      "image/png": "[encoded data removed]",
      "text/plain": [
       "<matplotlib.figure.Figure at 0x1c1984ed68>"
      ]
     },
     "metadata": {},
     "output_type": "display_data"
    }
   ],
   "source": [
    "# plots\n",
    "aics = [models_forward[k][1].aic for k in range(len(models_forward))]\n",
    "bics = [models_forward[k][1].bic for k in range(len(models_forward))]\n",
    "r_adj = [models_forward[k][1].rsquared_adj for k in range(len(models_forward))]\n",
    "\n",
    "# find best value for estimators\n",
    "min_aic_index, min_aic = min(enumerate(aics), key=itemgetter(1))\n",
    "min_bic_index, min_bic = min(enumerate(bics), key=itemgetter(1))\n",
    "max_radj_index, max_radj = max(enumerate(r_adj), key=itemgetter(1))\n",
    "\n",
    "num_preds = np.linspace(1,len(models_forward),len(models_forward))\n",
    "\n",
    "# Create a plot\n",
    "fig,(ax1, ax2) = plt.subplots(1,2,figsize=(16,5))\n",
    "\n",
    "# MSE estimators\n",
    "ax1.plot(num_preds, aics, 'r', marker='o', label='AIC');\n",
    "ax1.plot(num_preds, bics, 'b', marker='o', label='BIC')\n",
    "\n",
    "# add the minimums to the axis\n",
    "ax1.plot(min_aic_index+1, min_aic, 'go', markersize=10, markeredgewidth=1)\n",
    "ax1.plot(min_bic_index+1, min_bic, 'go', markersize=10, markeredgewidth=1)\n",
    "\n",
    "# Labels and Legend\n",
    "ax1.set_xlabel('Number of Predictors');\n",
    "ax1.set_ylabel('Test MSE');\n",
    "ax1.legend(loc='best');\n",
    "\n",
    "# Add Adj R**2\n",
    "ax2.plot(num_preds, r_adj,'k', marker='o')\n",
    "ax2.plot(max_radj_index+1, max_radj, 'go', markersize=10, markeredgewidth=1)\n",
    "ax2.set_xlabel('Number of Predictors');\n",
    "ax2.set_ylabel('Adjusted R**2');\n",
    "\n",
    "fig.suptitle('Forward Subset Selection', fontsize=16);"
   ]
  },
  {
   "cell_type": "code",
   "execution_count": 12,
   "metadata": {},
   "outputs": [
    {
     "data": {
      "text/plain": [
       "const    2.177226\n",
       "X2       3.084336\n",
       "X5      -0.061077\n",
       "X1      -1.969290\n",
       "X3       1.177513\n",
       "dtype: float64"
      ]
     },
     "execution_count": 12,
     "metadata": {},
     "output_type": "execute_result"
    }
   ],
   "source": [
    "models_forward[3][1].params"
   ]
  },
  {
   "cell_type": "code",
   "execution_count": 13,
   "metadata": {},
   "outputs": [
    {
     "data": {
      "text/plain": [
       "const    2.085371\n",
       "X2       3.219740\n",
       "X5       0.108509\n",
       "X1      -0.534047\n",
       "dtype: float64"
      ]
     },
     "execution_count": 13,
     "metadata": {},
     "output_type": "execute_result"
    }
   ],
   "source": [
    "models_forward[2][1].params"
   ]
  },
  {
   "cell_type": "code",
   "execution_count": 14,
   "metadata": {},
   "outputs": [
    {
     "data": {
      "image/png": "[encoded data removed]",
      "text/plain": [
       "<matplotlib.figure.Figure at 0x1115de6a0>"
      ]
     },
     "metadata": {},
     "output_type": "display_data"
    }
   ],
   "source": [
    "# e) Lasso\n",
    "lasso_cv = LassoCV(alphas = np.logspace(-4,-1,100), normalize=True, cv=5, max_iter=100000)\n",
    "lasso_cv.fit(df[df.columns.difference(['Y'])].values, df['Y'].values)\n",
    "\n",
    "# The mse estimates are the mean aross folds (cols)\n",
    "mses = np.mean(lasso_cv.mse_path_, axis=1)\n",
    "\n",
    "# Plot CV error vs alpha\n",
    "fig, ax = plt.subplots(figsize=(15,8))\n",
    "ax.plot(lasso_cv.alphas_,mses, color='r')\n",
    "ax.plot(lasso_cv.alpha_, np.min(mses), marker='o', color='k', markersize=8)\n",
    "ax.set_xlabel('alpha log-scale')\n",
    "ax.set_xscale('log')\n",
    "ax.set_ylabel('CV 5-Fold');"
   ]
  },
  {
   "cell_type": "code",
   "execution_count": 15,
   "metadata": {},
   "outputs": [
    {
     "data": {
      "text/plain": [
       "0.0010722672220103231"
      ]
     },
     "execution_count": 15,
     "metadata": {},
     "output_type": "execute_result"
    }
   ],
   "source": [
    "lasso_cv.alpha_"
   ]
  },
  {
   "cell_type": "markdown",
   "metadata": {},
   "source": [
    "# Question 9"
   ]
  },
  {
   "cell_type": "code",
   "execution_count": 16,
   "metadata": {},
   "outputs": [
    {
     "name": "stderr",
     "output_type": "stream",
     "text": [
      "/anaconda3/lib/python3.6/importlib/_bootstrap.py:219: RuntimeWarning: numpy.dtype size changed, may indicate binary incompatibility. Expected 96, got 88\n",
      "  return f(*args, **kwds)\n",
      "/anaconda3/lib/python3.6/site-packages/sklearn/cross_validation.py:41: DeprecationWarning: This module was deprecated in version 0.18 in favor of the model_selection module into which all the refactored classes and functions are moved. Also note that the interface of the new CV iterators are different from that of this module. This module will be removed in 0.20.\n",
      "  \"This module will be removed in 0.20.\", DeprecationWarning)\n"
     ]
    }
   ],
   "source": [
    "# load modules\n",
    "from sklearn.model_selection import train_test_split\n",
    "from sklearn.linear_model import RidgeCV, LassoCV, LinearRegression\n",
    "from sklearn.decomposition import PCA\n",
    "from sklearn.cross_decomposition import PLSRegression\n",
    "from sklearn.pipeline import Pipeline\n",
    "from sklearn.preprocessing import StandardScaler\n",
    "from sklearn.cross_validation import cross_val_score"
   ]
  },
  {
   "cell_type": "code",
   "execution_count": 17,
   "metadata": {},
   "outputs": [
    {
     "data": {
      "text/html": [
       "<div>\n",
       "<style scoped>\n",
       "    .dataframe tbody tr th:only-of-type {\n",
       "        vertical-align: middle;\n",
       "    }\n",
       "\n",
       "    .dataframe tbody tr th {\n",
       "        vertical-align: top;\n",
       "    }\n",
       "\n",
       "    .dataframe thead th {\n",
       "        text-align: right;\n",
       "    }\n",
       "</style>\n",
       "<table border=\"1\" class=\"dataframe\">\n",
       "  <thead>\n",
       "    <tr style=\"text-align: right;\">\n",
       "      <th></th>\n",
       "      <th>Private</th>\n",
       "      <th>Apps</th>\n",
       "      <th>Accept</th>\n",
       "      <th>Enroll</th>\n",
       "      <th>Top10perc</th>\n",
       "      <th>Top25perc</th>\n",
       "      <th>F.Undergrad</th>\n",
       "      <th>P.Undergrad</th>\n",
       "      <th>Outstate</th>\n",
       "      <th>Room.Board</th>\n",
       "      <th>Books</th>\n",
       "      <th>Personal</th>\n",
       "      <th>PhD</th>\n",
       "      <th>Terminal</th>\n",
       "      <th>S.F.Ratio</th>\n",
       "      <th>perc.alumni</th>\n",
       "      <th>Expend</th>\n",
       "      <th>Grad.Rate</th>\n",
       "    </tr>\n",
       "  </thead>\n",
       "  <tbody>\n",
       "    <tr>\n",
       "      <th>Abilene Christian University</th>\n",
       "      <td>Yes</td>\n",
       "      <td>1660</td>\n",
       "      <td>1232</td>\n",
       "      <td>721</td>\n",
       "      <td>23</td>\n",
       "      <td>52</td>\n",
       "      <td>2885</td>\n",
       "      <td>537</td>\n",
       "      <td>7440</td>\n",
       "      <td>3300</td>\n",
       "      <td>450</td>\n",
       "      <td>2200</td>\n",
       "      <td>70</td>\n",
       "      <td>78</td>\n",
       "      <td>18.1</td>\n",
       "      <td>12</td>\n",
       "      <td>7041</td>\n",
       "      <td>60</td>\n",
       "    </tr>\n",
       "    <tr>\n",
       "      <th>Adelphi University</th>\n",
       "      <td>Yes</td>\n",
       "      <td>2186</td>\n",
       "      <td>1924</td>\n",
       "      <td>512</td>\n",
       "      <td>16</td>\n",
       "      <td>29</td>\n",
       "      <td>2683</td>\n",
       "      <td>1227</td>\n",
       "      <td>12280</td>\n",
       "      <td>6450</td>\n",
       "      <td>750</td>\n",
       "      <td>1500</td>\n",
       "      <td>29</td>\n",
       "      <td>30</td>\n",
       "      <td>12.2</td>\n",
       "      <td>16</td>\n",
       "      <td>10527</td>\n",
       "      <td>56</td>\n",
       "    </tr>\n",
       "    <tr>\n",
       "      <th>Adrian College</th>\n",
       "      <td>Yes</td>\n",
       "      <td>1428</td>\n",
       "      <td>1097</td>\n",
       "      <td>336</td>\n",
       "      <td>22</td>\n",
       "      <td>50</td>\n",
       "      <td>1036</td>\n",
       "      <td>99</td>\n",
       "      <td>11250</td>\n",
       "      <td>3750</td>\n",
       "      <td>400</td>\n",
       "      <td>1165</td>\n",
       "      <td>53</td>\n",
       "      <td>66</td>\n",
       "      <td>12.9</td>\n",
       "      <td>30</td>\n",
       "      <td>8735</td>\n",
       "      <td>54</td>\n",
       "    </tr>\n",
       "    <tr>\n",
       "      <th>Agnes Scott College</th>\n",
       "      <td>Yes</td>\n",
       "      <td>417</td>\n",
       "      <td>349</td>\n",
       "      <td>137</td>\n",
       "      <td>60</td>\n",
       "      <td>89</td>\n",
       "      <td>510</td>\n",
       "      <td>63</td>\n",
       "      <td>12960</td>\n",
       "      <td>5450</td>\n",
       "      <td>450</td>\n",
       "      <td>875</td>\n",
       "      <td>92</td>\n",
       "      <td>97</td>\n",
       "      <td>7.7</td>\n",
       "      <td>37</td>\n",
       "      <td>19016</td>\n",
       "      <td>59</td>\n",
       "    </tr>\n",
       "    <tr>\n",
       "      <th>Alaska Pacific University</th>\n",
       "      <td>Yes</td>\n",
       "      <td>193</td>\n",
       "      <td>146</td>\n",
       "      <td>55</td>\n",
       "      <td>16</td>\n",
       "      <td>44</td>\n",
       "      <td>249</td>\n",
       "      <td>869</td>\n",
       "      <td>7560</td>\n",
       "      <td>4120</td>\n",
       "      <td>800</td>\n",
       "      <td>1500</td>\n",
       "      <td>76</td>\n",
       "      <td>72</td>\n",
       "      <td>11.9</td>\n",
       "      <td>2</td>\n",
       "      <td>10922</td>\n",
       "      <td>15</td>\n",
       "    </tr>\n",
       "  </tbody>\n",
       "</table>\n",
       "</div>"
      ],
      "text/plain": [
       "                             Private  Apps  Accept  Enroll  Top10perc  \\\n",
       "Abilene Christian University     Yes  1660    1232     721         23   \n",
       "Adelphi University               Yes  2186    1924     512         16   \n",
       "Adrian College                   Yes  1428    1097     336         22   \n",
       "Agnes Scott College              Yes   417     349     137         60   \n",
       "Alaska Pacific University        Yes   193     146      55         16   \n",
       "\n",
       "                              Top25perc  F.Undergrad  P.Undergrad  Outstate  \\\n",
       "Abilene Christian University         52         2885          537      7440   \n",
       "Adelphi University                   29         2683         1227     12280   \n",
       "Adrian College                       50         1036           99     11250   \n",
       "Agnes Scott College                  89          510           63     12960   \n",
       "Alaska Pacific University            44          249          869      7560   \n",
       "\n",
       "                              Room.Board  Books  Personal  PhD  Terminal  \\\n",
       "Abilene Christian University        3300    450      2200   70        78   \n",
       "Adelphi University                  6450    750      1500   29        30   \n",
       "Adrian College                      3750    400      1165   53        66   \n",
       "Agnes Scott College                 5450    450       875   92        97   \n",
       "Alaska Pacific University           4120    800      1500   76        72   \n",
       "\n",
       "                              S.F.Ratio  perc.alumni  Expend  Grad.Rate  \n",
       "Abilene Christian University       18.1           12    7041         60  \n",
       "Adelphi University                 12.2           16   10527         56  \n",
       "Adrian College                     12.9           30    8735         54  \n",
       "Agnes Scott College                 7.7           37   19016         59  \n",
       "Alaska Pacific University          11.9            2   10922         15  "
      ]
     },
     "execution_count": 17,
     "metadata": {},
     "output_type": "execute_result"
    }
   ],
   "source": [
    "# a) load data\n",
    "df = pd.read_csv('./datasets/College.csv',index_col=0)\n",
    "df.head()"
   ]
  },
  {
   "cell_type": "code",
   "execution_count": 18,
   "metadata": {},
   "outputs": [],
   "source": [
    "# prepare for mddel\n",
    "df = pd.get_dummies(df,columns=['Private'],prefix=['Private'])"
   ]
  },
  {
   "cell_type": "code",
   "execution_count": 19,
   "metadata": {},
   "outputs": [],
   "source": [
    "# split into training and test sets\n",
    "X_train, X_test, y_train, y_test = train_test_split(df[df.columns.difference(['Apps'])], df['Apps'],\n",
    "                                                    test_size=0.5, random_state=0)"
   ]
  },
  {
   "cell_type": "code",
   "execution_count": 20,
   "metadata": {},
   "outputs": [
    {
     "name": "stdout",
     "output_type": "stream",
     "text": [
      "MSE =  1260390.8426037787\n"
     ]
    }
   ],
   "source": [
    "# b) linear model using least squares on training set\n",
    "# generate model\n",
    "lm = sm.OLS(y_train,sm.add_constant(X_train)).fit()\n",
    "\n",
    "# compute MSE\n",
    "y_pred = lm.predict(sm.add_constant(X_test))\n",
    "lm_mse = np.mean((y_test-y_pred)**2)\n",
    "print(\"MSE = \", lm_mse)"
   ]
  },
  {
   "cell_type": "code",
   "execution_count": 21,
   "metadata": {},
   "outputs": [
    {
     "data": {
      "image/png": "[encoded data removed]",
      "text/plain": [
       "<matplotlib.figure.Figure at 0x10aac67b8>"
      ]
     },
     "metadata": {},
     "output_type": "display_data"
    }
   ],
   "source": [
    "# c) Ridge Regression fitting lambda using CV\n",
    "# alphas\n",
    "alphas = np.logspace(-4,0,100)\n",
    "\n",
    "# create model\n",
    "ridge_cv = RidgeCV(alphas=alphas, normalize=True, store_cv_values=True)\n",
    "\n",
    "# fit model\n",
    "cv_results = ridge_cv.fit(X_train.values, y_train.values)\n",
    "\n",
    "# average the metric over each cv\n",
    "cvs = np.mean(cv_results.cv_values_, axis=0)\n",
    "\n",
    "# optimal alphas\n",
    "cvs_min = np.min(cvs)\n",
    "alpha_min = cv_results.alpha_\n",
    "\n",
    "# plot\n",
    "fix, ax = plt.subplots(figsize=(12,8))\n",
    "ax.plot(alpha_min,cvs_min, color='r', marker='o')\n",
    "ax.plot(alphas, cvs)\n",
    "ax.set_xscale('log')\n",
    "ax.set_xlabel('alphas')\n",
    "ax.set_ylabel('Train MSE');"
   ]
  },
  {
   "cell_type": "code",
   "execution_count": 22,
   "metadata": {},
   "outputs": [
    {
     "name": "stdout",
     "output_type": "stream",
     "text": [
      "MSE on test set: 1368147.7220746055\n"
     ]
    }
   ],
   "source": [
    "# use the best model and make predictions on the test set\n",
    "y_pred = cv_results.predict(X_test.values)\n",
    "\n",
    "# compute the MSE for the test set\n",
    "mse_test = np.mean((y_pred-y_test.values)**2)\n",
    "print(\"MSE on test set:\", mse_test)"
   ]
  },
  {
   "cell_type": "code",
   "execution_count": 23,
   "metadata": {},
   "outputs": [
    {
     "name": "stdout",
     "output_type": "stream",
     "text": [
      "-1023.9497298893439 [ 1.16329248e+00 -3.38683967e-02 -3.03038965e-02  7.91829578e-02\n",
      "  8.42077836e-02  1.21620170e+01 -2.19633476e-02  2.18307071e-02\n",
      " -6.02389765e-02 -9.14327773e+00  3.39754142e+02 -3.39754142e+02\n",
      "  2.05751147e-01  1.57139929e+01 -4.89681033e+00  5.06269905e+01\n",
      " -1.67376516e+01 -9.60455749e+00]\n"
     ]
    }
   ],
   "source": [
    "print(cv_results.intercept_, cv_results.coef_)"
   ]
  },
  {
   "cell_type": "code",
   "execution_count": 24,
   "metadata": {},
   "outputs": [
    {
     "name": "stdout",
     "output_type": "stream",
     "text": [
      "Intercept     -1023.949730\n",
      "Accept            1.163292\n",
      "Books            -0.033868\n",
      "Enroll           -0.030304\n",
      "Expend            0.079183\n",
      "F.Undergrad       0.084208\n",
      "Grad.Rate        12.162017\n",
      "Outstate         -0.021963\n",
      "P.Undergrad       0.021831\n",
      "Personal         -0.060239\n",
      "PhD              -9.143278\n",
      "Private_No      339.754142\n",
      "Private_Yes    -339.754142\n",
      "Room.Board        0.205751\n",
      "S.F.Ratio        15.713993\n",
      "Terminal         -4.896810\n",
      "Top10perc        50.626990\n",
      "Top25perc       -16.737652\n",
      "perc.alumni      -9.604557\n",
      "dtype: float64\n"
     ]
    }
   ],
   "source": [
    "print(pd.Series(data = np.hstack([cv_results.intercept_,cv_results.coef_]), index=['Intercept'] + list(df.columns.difference(['Apps']))))"
   ]
  },
  {
   "cell_type": "code",
   "execution_count": 25,
   "metadata": {},
   "outputs": [
    {
     "data": {
      "image/png": "[encoded data removed]",
      "text/plain": [
       "<matplotlib.figure.Figure at 0x1c292424a8>"
      ]
     },
     "metadata": {},
     "output_type": "display_data"
    }
   ],
   "source": [
    "# d) Lasso\n",
    "# alphas\n",
    "alphas = np.logspace(-4,0,100)\n",
    "\n",
    "# create model\n",
    "lasso_cv = LassoCV(alphas=alphas, normalize=True, cv=5, max_iter=100000)\n",
    "\n",
    "# fit model\n",
    "cv_results = lasso_cv.fit(X_train.values, y_train.values)\n",
    "\n",
    "# average the metric over each cv\n",
    "cvs = np.mean(cv_results.mse_path_, axis=1)\n",
    "\n",
    "# optimal alphas\n",
    "cvs_min = np.min(cvs)\n",
    "alpha_min = cv_results.alpha_\n",
    "\n",
    "# plot\n",
    "fix, ax = plt.subplots(figsize=(12,8))\n",
    "ax.plot(alpha_min,cvs_min, color='r', marker='o')\n",
    "ax.plot(lasso_cv.alphas_, cvs)\n",
    "ax.set_xscale('log')\n",
    "ax.set_xlabel('alphas')\n",
    "ax.set_ylabel('Train MSE');"
   ]
  },
  {
   "cell_type": "code",
   "execution_count": 26,
   "metadata": {},
   "outputs": [
    {
     "name": "stdout",
     "output_type": "stream",
     "text": [
      "MSE on test set: 1291673.5749245465\n"
     ]
    }
   ],
   "source": [
    "# use the best model and make predictions on the test set\n",
    "y_pred = cv_results.predict(X_test.values)\n",
    "\n",
    "# compute the MSE for the test set\n",
    "mse_test = np.mean((y_pred-y_test.values)**2)\n",
    "print(\"MSE on test set:\", mse_test)"
   ]
  },
  {
   "cell_type": "code",
   "execution_count": 27,
   "metadata": {},
   "outputs": [
    {
     "name": "stdout",
     "output_type": "stream",
     "text": [
      "Intercept     -1293.287005\n",
      "Accept            1.213137\n",
      "Books            -0.000000\n",
      "Enroll            0.000000\n",
      "Expend            0.070607\n",
      "F.Undergrad       0.057802\n",
      "Grad.Rate         9.586013\n",
      "Outstate         -0.017637\n",
      "P.Undergrad       0.016417\n",
      "Personal         -0.027487\n",
      "PhD              -7.727026\n",
      "Private_No      632.449054\n",
      "Private_Yes      -0.000000\n",
      "Room.Board        0.173903\n",
      "S.F.Ratio         9.640850\n",
      "Terminal         -4.190705\n",
      "Top10perc        47.295887\n",
      "Top25perc       -13.557448\n",
      "perc.alumni      -7.525542\n",
      "dtype: float64\n"
     ]
    }
   ],
   "source": [
    "print(pd.Series(data = np.hstack([cv_results.intercept_,cv_results.coef_]), \n",
    "                index=['Intercept'] + list(df.columns.difference(['Apps']))))"
   ]
  },
  {
   "cell_type": "code",
   "execution_count": 28,
   "metadata": {},
   "outputs": [
    {
     "data": {
      "image/png": "[encoded data removed]",
      "text/plain": [
       "<matplotlib.figure.Figure at 0x1c199c3240>"
      ]
     },
     "metadata": {},
     "output_type": "display_data"
    }
   ],
   "source": [
    "# e) PCR\n",
    "\n",
    "# store score for each iteration\n",
    "scores = []\n",
    "\n",
    "# initialize the analysis\n",
    "num_components = np.arange(1,len(df.columns.difference(['Apps'])))\n",
    "num_records = X_train.shape[0]\n",
    "\n",
    "for n in num_components:\n",
    "    pca = PCA(n_components=n)\n",
    "    \n",
    "    # create pipeline scaler->pca->lr\n",
    "    pipe = Pipeline([('scaler',StandardScaler()),('pca',pca),('linear_regression',LinearRegression())])\n",
    "    \n",
    "    # fit the pipeline\n",
    "    pipe.fit(X_train.values,y_train.values)\n",
    "    scores.append(-np.mean(cross_val_score(pipe, X_train.values, y_train.values, scoring='neg_mean_squared_error', cv=5)))\n",
    "    \n",
    "# obtain best model\n",
    "min_index, min_score = min(enumerate(scores),key=itemgetter(1))\n",
    "\n",
    "# plot results\n",
    "fig, ax = plt.subplots(figsize=(12,8))\n",
    "ax.plot(num_components,scores,marker='o')\n",
    "ax.plot(min_index+1,min_score,marker='o',color='r')\n",
    "ax.set_xlabel('Number of Components')\n",
    "ax.set_ylabel('5-Fold CV Training Score');"
   ]
  },
  {
   "cell_type": "code",
   "execution_count": 29,
   "metadata": {},
   "outputs": [
    {
     "data": {
      "image/png": "[encoded data removed]",
      "text/plain": [
       "<matplotlib.figure.Figure at 0x10981b8d0>"
      ]
     },
     "metadata": {},
     "output_type": "display_data"
    }
   ],
   "source": [
    "# f) PSL\n",
    "\n",
    "# store the results\n",
    "scores = []\n",
    "\n",
    "# initialize the analysis\n",
    "num_components = np.arange(1,len(df.columns.difference(['Apps'])))\n",
    "num_records = X_train.shape[0]\n",
    "\n",
    "for n in num_components:\n",
    "    pls = PLSRegression(n_components=n,scale=True) \n",
    "    \n",
    "    # fit the pipeline\n",
    "    scores.append(-np.mean(cross_val_score(pls, X_train.values, \n",
    "                                           y_train.values, scoring='neg_mean_squared_error', cv=5)))\n",
    "\n",
    "# obtain best model\n",
    "min_index, min_score = min(enumerate(scores),key=itemgetter(1))\n",
    "\n",
    "# plot results\n",
    "fig, ax = plt.subplots(figsize=(12,8))\n",
    "ax.plot(num_components,scores,marker='o')\n",
    "ax.plot(min_index+1,min_score,marker='o',color='r')\n",
    "ax.set_xlabel('Number of Components')\n",
    "ax.set_ylabel('5-Fold CV Training Score');"
   ]
  }
 ],
 "metadata": {
  "kernelspec": {
   "display_name": "Python 3",
   "language": "python",
   "name": "python3"
  },
  "language_info": {
   "codemirror_mode": {
    "name": "ipython",
    "version": 3
   },
   "file_extension": ".py",
   "mimetype": "text/x-python",
   "name": "python",
   "nbconvert_exporter": "python",
   "pygments_lexer": "ipython3",
   "version": "3.6.4"
  }
 },
 "nbformat": 4,
 "nbformat_minor": 2
}
